{
 "cells": [
  {
   "cell_type": "code",
   "execution_count": null,
   "id": "2606dbe3",
   "metadata": {
    "id": "2606dbe3"
   },
   "outputs": [],
   "source": [
    "# Import neded packages\n",
    "\n",
    "import torch\n",
    "import torch.nn as nn\n",
    "import torch.optim as optim\n",
    "from torch.optim.lr_scheduler import LambdaLR\n",
    "import numpy as np\n",
    "import matplotlib.pyplot as plt\n",
    "import matplotlib\n",
    "\n",
    "\n",
    "# #%matplotlib widget\n",
    "# %matplotlib inline\n"
   ]
  },
  {
   "cell_type": "code",
   "execution_count": null,
   "id": "12099a17",
   "metadata": {
    "colab": {
     "base_uri": "https://localhost:8080/"
    },
    "id": "12099a17",
    "outputId": "dc928da3-ef30-413a-9a5e-25507f10256f"
   },
   "outputs": [],
   "source": [
    "# We move our tensor to the GPU if available\n",
    "device = 'cuda' if torch.cuda.is_available() else 'cpu'\n",
    "print('Using {} device'.format(device))"
   ]
  },
  {
   "cell_type": "code",
   "execution_count": null,
   "id": "10b1f7fb",
   "metadata": {
    "id": "10b1f7fb"
   },
   "outputs": [],
   "source": [
    "# Defined the DGM network\n",
    "\n",
    "\n",
    "#__________________________ The class that defines the DGM layer ______________________________\n",
    "\n",
    "class DGM_layer(nn.Module):\n",
    "    \"\"\"\n",
    "        The parametres:\n",
    "                        d: dimension of the space domain\n",
    "                        M: number of units in each layer\n",
    "                  \"\"\"\n",
    "\n",
    "    def __init__(self,d,M):\n",
    "        super(DGM_layer, self).__init__()\n",
    "        self.Uz = nn.Linear(d, M, bias=False)\n",
    "        self.Wzbz = nn.Linear(M, M)\n",
    "        self.Ug = nn.Linear(d, M, bias=False)\n",
    "        self.Wgbg = nn.Linear(M, M)\n",
    "        self.Ur = nn.Linear(d, M, bias=False)\n",
    "        self.Wrbr = nn.Linear(M, M)\n",
    "        self.Uh = nn.Linear(d, M, bias=False)\n",
    "        self.Whbh = nn.Linear(M, M)\n",
    "        self.onesTens = torch.ones(M).to(device)\n",
    "\n",
    "    def activation(self, x):\n",
    "        return torch.tanh(x)\n",
    "        #return torch.sigmoid(x)\n",
    "        #return x * torch.sigmoid(x)\n",
    "        #return torch.relu(x)\n",
    "        #return torch.cos(x)\n",
    "\n",
    "    def forward(self, xt, prevS):\n",
    "        Z = self.activation(self.Uz(xt) + self.Wzbz(prevS))\n",
    "        G = self.activation(self.Ug(xt) + self.Wgbg(prevS))\n",
    "        R = self.activation(self.Ur(xt) + self.Wrbr(prevS))\n",
    "        SR = prevS * R\n",
    "        H = self.activation(self.Uh(xt) + self.Whbh(SR))\n",
    "        return (self.onesTens - G) * H + Z * prevS\n",
    "\n",
    "\n",
    "#__________________________ The class that defines the DGM network ______________________________\n",
    "\n",
    "\n",
    "class DGM_Net(nn.Module):\n",
    "    \"\"\"\n",
    "        The parametres:\n",
    "                        d: dimension of the space domain\n",
    "                        M: number of units in each layer\n",
    "                        L: number of DGM layers\n",
    "                        X: the vector of  spatial data\n",
    "                        t: the vector of time data\n",
    "                  \"\"\"\n",
    "\n",
    "    def __init__(self, d, M, L):\n",
    "        super(DGM_Net, self).__init__()\n",
    "        self.initial_layer = nn.Linear(d, M)\n",
    "        self.middle_layers = nn.ModuleList([DGM_layer(d, M) for i in range(L)])\n",
    "        self.final_layer = nn.Linear(M, 1)\n",
    "\n",
    "    def activation(self, x):\n",
    "        return torch.tanh(x)\n",
    "        #return torch.sigmoid(x)\n",
    "        #return x * torch.sigmoid(x)\n",
    "        #return torch.relu(x)\n",
    "        #return torch.cos(x)\n",
    "\n",
    "    def forward(self, X):\n",
    "        S = self.activation(self.initial_layer(X))\n",
    "        for i, DGMlayer in enumerate(self.middle_layers):\n",
    "            S = DGMlayer(X, S)\n",
    "        return self.final_layer(S)\n"
   ]
  },
  {
   "cell_type": "code",
   "execution_count": null,
   "id": "f59c7431",
   "metadata": {
    "id": "f59c7431"
   },
   "outputs": [],
   "source": [
    "#_______________ hyperparameters __________________________________\n",
    "\n",
    "dim = 10                         # imension of the space domain\n",
    "M = 20                           # number of units in each layer\n",
    "L = 3                            # number of DGM layers\n",
    "num_eps = 50000                  # number of epochs totale\n",
    "\n",
    "mini_batch_size = 1024\n",
    "\n",
    "mini_batch_size_bdry = 250\n",
    "x_low =  -1.0\n",
    "x_high = 1.0               # domain dimensions\n",
    "\n",
    "pi = np.pi\n",
    "\n",
    "area = np.abs(x_high - x_low)**dim    # domain measure for using the Monte Carlo approximation\n",
    "\n",
    "\n",
    "# used in calculating boundary loss\n",
    "ones = (torch.ones((mini_batch_size_bdry, 1))[:,0]).to(device)\n",
    "zeros = (-torch.ones((mini_batch_size_bdry, 1))[:,0]).to(device)"
   ]
  },
  {
   "cell_type": "code",
   "execution_count": null,
   "id": "1b81be48",
   "metadata": {
    "id": "1b81be48"
   },
   "outputs": [],
   "source": [
    "#___________________ the analytical solution __________________________________________________________\n",
    "\n",
    "def U_exat(X):\n",
    "    k = torch.zeros((X.shape[0],1)).to(device)\n",
    "    for i in range(dim):\n",
    "        k=k+torch.cos(pi*X[:,i]).reshape(-1,1)\n",
    "    return k\n",
    "\n",
    "#___________________ the second member ________________________________________________________________\n",
    "\n",
    "\n",
    "def f(X):\n",
    "    return pi**2 * U_exat(X)"
   ]
  },
  {
   "cell_type": "code",
   "execution_count": null,
   "id": "e96697ac",
   "metadata": {
    "id": "e96697ac"
   },
   "outputs": [],
   "source": [
    "#_______________ Mean errors ____________________________________\n",
    "\n",
    "def absulat_ME(Uext,Upred):\n",
    "    return  torch.sqrt(((Uext - Upred)**2).mean())\n",
    "\n",
    "def relative_E(Uext,Upred):\n",
    "    return torch.sqrt(((Uext - Upred)**2).mean()/((Uext)**2).mean())*100"
   ]
  },
  {
   "cell_type": "code",
   "execution_count": null,
   "id": "de3e4062",
   "metadata": {
    "id": "de3e4062"
   },
   "outputs": [],
   "source": [
    "# Define the learning rate schedule based on the number of epochs\n",
    "def lr_lambda(epoch):\n",
    "    if epoch <= 5000:\n",
    "        return 1e-2\n",
    "    elif 5000 < epoch <= 10000:\n",
    "        return 5e-3\n",
    "    elif 10000 < epoch <= 20000:\n",
    "        return 1e-3\n",
    "    elif 20000 < epoch <= 30000:\n",
    "        return 5e-4\n",
    "    elif 30000 < epoch <= 40000:\n",
    "        return 1e-4\n",
    "    elif 40000 < epoch <= 45000:\n",
    "        return 5e-5\n",
    "    else:\n",
    "        return 1e-5"
   ]
  },
  {
   "cell_type": "code",
   "execution_count": null,
   "id": "d6f8a9a5",
   "metadata": {
    "colab": {
     "base_uri": "https://localhost:8080/"
    },
    "id": "d6f8a9a5",
    "outputId": "aafdaff3-53fd-41c3-c513-3b52180375fe",
    "scrolled": true
   },
   "outputs": [],
   "source": [
    "#________________________ Training __________________________________________________________________________\n",
    "\n",
    "u = DGM_Net(dim,M,L).to(device)   #  The network that will approach the solution\n",
    "\n",
    "\n",
    "x_sampler = torch.distributions.uniform.Uniform(x_low, x_high)    #   to obtain the spatial data\n",
    "\n",
    "# Create the optimizer and a LambdaLR scheduler with the defined learning rate schedule\n",
    "optimizer = optim.Adam(u.parameters(),lr = 1)                   # Define the optimizer\n",
    "\n",
    "scheduler = LambdaLR(optimizer, lr_lambda=lr_lambda)  # to adjust learning rate\n",
    "\n",
    "\n",
    "loss_train = np.zeros(num_eps)             # loss of taining inside the domaine\n",
    "relative_E_losses = np.zeros(num_eps)              # losses initialization\n",
    "\n",
    "print('\\n Using {} device'.format(device))\n",
    "for ep in range(num_eps):\n",
    "\n",
    "\n",
    "    x = x_sampler.sample((mini_batch_size, dim))\n",
    "    X_bdr = x_sampler.sample((mini_batch_size_bdry, dim)).to(device)\n",
    "\n",
    "    x = torch.Tensor(x).to(device)\n",
    "    x.requires_grad_()\n",
    "\n",
    "    # evaluate forward pass, compute derivatives of network with respect to x\n",
    "    u_output = u(x)\n",
    "    u_grad = torch.autograd.grad(u_output, x, grad_outputs=torch.ones_like(u_output), create_graph=True)[0]\n",
    "\n",
    "    Δu = 0.0\n",
    "    for i in range(dim):\n",
    "        Δu += (torch.autograd.grad(u_grad[:,i], x, grad_outputs=torch.ones_like(u_grad[:,i]), create_graph=True)[0][:,i]).reshape(-1,1)\n",
    "\n",
    "    L1 = area * torch.mean(torch.pow((Δu + f(x)), 2))\n",
    "\n",
    "\n",
    "    L_bndry = 0\n",
    "    for br in range(dim):\n",
    "         bndr_zeros = torch.clone(X_bdr)\n",
    "         bndr_ones = torch.clone(X_bdr)\n",
    "         bndr_zeros[:,br] = zeros\n",
    "         bndr_ones[:,br] = ones\n",
    "         L_zeros = torch.mean(torch.pow(u(bndr_zeros) - U_exat(bndr_zeros), 2))\n",
    "         L_ones = torch.mean(torch.pow(u(bndr_ones) - U_exat(bndr_ones), 2))\n",
    "         L_bndry = L_bndry +  L_zeros + L_ones\n",
    "\n",
    "    Loss = L1 + L_bndry\n",
    "\n",
    "    relative_E_losses[ep] =  float(relative_E( U_exat(x) ,u_output).item())\n",
    "\n",
    "    optimizer.zero_grad()\n",
    "    Loss.backward()            # compute derivative of loss with respect to network parameters\n",
    "    optimizer.step()           # update network parameters with ADAM\n",
    "\n",
    "    # Update the learning rate\n",
    "    scheduler.step(ep)  # Pass the current epoch to the scheduler\n",
    "\n",
    "    # Display the current learning rate\n",
    "    current_lr = optimizer.param_groups[0]['lr']\n",
    "\n",
    "    loss_train[ep] = float(L1.item())\n",
    "    if ep % 1000 == 999:\n",
    "        print(\"Epoch %d - L_r:%f  loss_int : %.2f - REN : %.2f\"%(ep, current_lr, loss_train[ep], relative_E_losses[ep]),\"%\")\n",
    "        #Ploting(x,x_bndr, u)\n",
    "\n"
   ]
  },
  {
   "cell_type": "code",
   "execution_count": null,
   "id": "vq1tHIaCkVWs",
   "metadata": {
    "id": "vq1tHIaCkVWs"
   },
   "outputs": [],
   "source": []
  },
  {
   "cell_type": "code",
   "execution_count": null,
   "id": "mfI2JPN2l-Gi",
   "metadata": {
    "colab": {
     "base_uri": "https://localhost:8080/"
    },
    "id": "mfI2JPN2l-Gi",
    "outputId": "cbfdf1ff-477e-49e2-b718-cfa9a0110871"
   },
   "outputs": [],
   "source": [
    "\n",
    "#_______________________________________________________________________________\n",
    "\n",
    "grid_nums = 500\n",
    "x_test = torch.distributions.uniform.Uniform(x_low, x_high).sample((grid_nums, dim)).to(device)\n",
    "with torch.no_grad():\n",
    "    U = u(x_test).detach()\n",
    "\n",
    "U_ext =  U_exat(x_test)\n",
    "\n",
    "print(\"The Mean Absulat Error: {}\".format(absulat_ME(U_ext,U)))\n",
    "print(\"The Relative Error: {} %\".format(relative_E(U_ext,U)))"
   ]
  },
  {
   "cell_type": "code",
   "execution_count": null,
   "id": "5842bbad",
   "metadata": {
    "colab": {
     "base_uri": "https://localhost:8080/"
    },
    "id": "5842bbad",
    "outputId": "f2f79ed4-ce61-4884-ca35-ac29f68ab74c"
   },
   "outputs": [],
   "source": [
    "MSEabs = 0\n",
    "MSErlf = 0\n",
    "N = 100\n",
    "for compt in range(N):\n",
    "    x_test = torch.distributions.uniform.Uniform(x_low, x_high).sample((grid_nums, dim)).to(device)\n",
    "    U = u(x_test)\n",
    "    U_ext =  U_exat(x_test)\n",
    "\n",
    "    MSEabs+= absulat_ME(U_ext,U)\n",
    "    MSErlf+= relative_E(U_ext,U)\n",
    "\n",
    "print(\"The averag of Mean Absulat Error: {}\".format(MSEabs/N))\n",
    "print(\"The averag of Relative Error: {} %\".format(MSErlf/N))"
   ]
  },
  {
   "cell_type": "code",
   "execution_count": null,
   "id": "m1DmFmqkl97R",
   "metadata": {
    "id": "m1DmFmqkl97R"
   },
   "outputs": [],
   "source": [
    "# # #_______________________ Save Model _____________________________________\n",
    "\n",
    "# torch.save(u.state_dict(), \"Model_Standar_DGM_k_dim_Poisson_equation dim 10\") # to save weights\n",
    "# np.save(\"loss_Standar_DGM_k_dim_Poisson_equation dim 10\" ,Losse)                # to save Losse\n"
   ]
  },
  {
   "cell_type": "code",
   "execution_count": null,
   "id": "0f78d595",
   "metadata": {
    "id": "0f78d595"
   },
   "outputs": [],
   "source": [
    "# # # # #_______________________ load Model _____________________________________\n",
    "\n",
    "# u_IS = DGM_Net(dim,M,L).to(device)\n",
    "# state_dict = torch.load( \"Model_IS_DGM_Poisson_special_50000_2.pth\")\n",
    "# u_IS.load_state_dict(state_dict)\n",
    "# losse_IS = np.load(\"loss_IS_DGM_Poisson_special_50000_2.npy\")"
   ]
  },
  {
   "cell_type": "code",
   "execution_count": null,
   "id": "79ee5a6b",
   "metadata": {
    "colab": {
     "base_uri": "https://localhost:8080/",
     "height": 432
    },
    "id": "79ee5a6b",
    "outputId": "a913c656-b400-439d-ab1c-76778d052bce"
   },
   "outputs": [],
   "source": [
    "# # #_______________ Ploting results __________________________________\n",
    "\n",
    "\n",
    "# grid_nums = 50\n",
    "\n",
    "# x_grid = torch.linspace(-1.0,1.0,grid_nums)\n",
    "# XX, YY = torch.meshgrid(x_grid,x_grid)\n",
    "# X = torch.reshape(XX, (-1,1))\n",
    "# Y = torch.reshape(YY, (-1,1))\n",
    "# XY = torch.cat((X,Y),1).to(device)\n",
    "# with torch.no_grad():\n",
    "#     U = u_IS(XY)\n",
    "\n",
    "# UU = torch.reshape(U, (grid_nums,grid_nums)).detach().cpu().numpy()\n",
    "# U_ext =  U_exat(XY)\n",
    "# U_ext = torch.reshape(U_ext , (grid_nums,grid_nums)).detach().cpu().numpy()\n",
    "\n",
    "# fig = plt.figure()\n",
    "# ax = fig.add_subplot(projection='3d')\n",
    "# ax.plot_surface(XX.numpy(),YY.numpy(), UU )\n"
   ]
  },
  {
   "cell_type": "code",
   "execution_count": null,
   "id": "4Ja9wZq-_8Mp",
   "metadata": {
    "id": "4Ja9wZq-_8Mp",
    "outputId": "c7a04b7c-9ffd-4a29-cf60-0211c78cd0ff"
   },
   "outputs": [],
   "source": [
    "# grid_nums = 500\n",
    "# x_test = torch.distributions.uniform.Uniform(x_low, x_high).sample((grid_nums, dim)).to(device)\n",
    "# with torch.no_grad():\n",
    "#     U = u(x_test).detach()\n",
    "#     U_IS = u_IS(x_test).detach()\n",
    "\n",
    "\n",
    "# U_ext =  U_exat(x_test)\n",
    "\n",
    "# print(\"MAE_standard_DGM = {} | MAE_Proposed method = {}\".format(absulat_ME(U_ext,U), absulat_ME(U_ext,U_IS)))\n",
    "\n",
    "# print(\"MRE_standard_DGM = {}% | MRE_Proposed method = {}%\".format(relative_E(U_ext,U), relative_E(U_ext,U_IS)))"
   ]
  },
  {
   "cell_type": "markdown",
   "id": "DFNa7oXWCBV0",
   "metadata": {
    "id": "DFNa7oXWCBV0"
   },
   "source": []
  },
  {
   "cell_type": "code",
   "execution_count": null,
   "id": "07ab6f89",
   "metadata": {
    "id": "07ab6f89",
    "outputId": "85157d18-ec5e-47c3-cf64-51aa6114bb9e"
   },
   "outputs": [],
   "source": [
    "# Losse_IS  = np.log(losse_IS)\n",
    "# Losse_standard  = np.log(Losse)\n",
    "\n",
    "# x_error = np.linspace(0,50000, 50000).reshape(-1,1)\n",
    "# plt.plot(x_error, Losse_IS,  label='Losse_IS')\n",
    "# plt.plot(x_error, Losse_standard, label='Losse_standard')\n",
    "# plt.legend()\n",
    "# plt.show"
   ]
  }
 ],
 "metadata": {
  "accelerator": "GPU",
  "colab": {
   "gpuType": "T4",
   "provenance": []
  },
  "kernelspec": {
   "display_name": "Python 3 (ipykernel)",
   "language": "python",
   "name": "python3"
  },
  "language_info": {
   "codemirror_mode": {
    "name": "ipython",
    "version": 3
   },
   "file_extension": ".py",
   "mimetype": "text/x-python",
   "name": "python",
   "nbconvert_exporter": "python",
   "pygments_lexer": "ipython3",
   "version": "3.12.4"
  }
 },
 "nbformat": 4,
 "nbformat_minor": 5
}
