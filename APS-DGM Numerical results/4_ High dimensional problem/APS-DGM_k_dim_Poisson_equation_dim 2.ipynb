{
 "cells": [
  {
   "cell_type": "code",
   "execution_count": null,
   "id": "2606dbe3",
   "metadata": {
    "id": "2606dbe3"
   },
   "outputs": [],
   "source": [
    "# Import neded packages\n",
    "\n",
    "import torch\n",
    "import torch.nn as nn\n",
    "import torch.optim as optim\n",
    "from torch.optim.lr_scheduler import LambdaLR\n",
    "import numpy as np\n",
    "import matplotlib.pyplot as plt\n",
    "import matplotlib\n",
    "import seaborn as sns\n",
    "\n",
    "# #%matplotlib widget\n",
    "# %matplotlib inline\n"
   ]
  },
  {
   "cell_type": "code",
   "execution_count": null,
   "id": "12099a17",
   "metadata": {
    "colab": {
     "base_uri": "https://localhost:8080/"
    },
    "id": "12099a17",
    "outputId": "e66a4035-5cd3-4c07-bb24-fb053cead2d0"
   },
   "outputs": [],
   "source": [
    "# We move our tensor to the GPU if available\n",
    "device = 'cuda' if torch.cuda.is_available() else 'cpu'\n",
    "print('Using {} device'.format(device))"
   ]
  },
  {
   "cell_type": "code",
   "execution_count": null,
   "id": "10b1f7fb",
   "metadata": {
    "id": "10b1f7fb"
   },
   "outputs": [],
   "source": [
    "# Defined the DGM network\n",
    "\n",
    "\n",
    "#__________________________ The class that defines the DGM layer ______________________________\n",
    "\n",
    "class DGM_layer(nn.Module):\n",
    "    \"\"\"\n",
    "        The parametres:\n",
    "                        d: dimension of the space domain\n",
    "                        M: number of units in each layer\n",
    "                  \"\"\"\n",
    "\n",
    "    def __init__(self,d,M):\n",
    "        super(DGM_layer, self).__init__()\n",
    "        self.Uz = nn.Linear(d, M, bias=False)\n",
    "        self.Wzbz = nn.Linear(M, M)\n",
    "        self.Ug = nn.Linear(d, M, bias=False)\n",
    "        self.Wgbg = nn.Linear(M, M)\n",
    "        self.Ur = nn.Linear(d, M, bias=False)\n",
    "        self.Wrbr = nn.Linear(M, M)\n",
    "        self.Uh = nn.Linear(d, M, bias=False)\n",
    "        self.Whbh = nn.Linear(M, M)\n",
    "        self.onesTens = torch.ones(M).to(device)\n",
    "\n",
    "    def activation(self, x):\n",
    "        return torch.tanh(x)\n",
    "        #return torch.sigmoid(x)\n",
    "        #return x * torch.sigmoid(x)\n",
    "        #return torch.relu(x)\n",
    "        #return torch.cos(x)\n",
    "\n",
    "    def forward(self, xt, prevS):\n",
    "        Z = self.activation(self.Uz(xt) + self.Wzbz(prevS))\n",
    "        G = self.activation(self.Ug(xt) + self.Wgbg(prevS))\n",
    "        R = self.activation(self.Ur(xt) + self.Wrbr(prevS))\n",
    "        SR = prevS * R\n",
    "        H = self.activation(self.Uh(xt) + self.Whbh(SR))\n",
    "        return (self.onesTens - G) * H + Z * prevS\n",
    "\n",
    "\n",
    "#__________________________ The class that defines the DGM network ______________________________\n",
    "\n",
    "\n",
    "class DGM_Net(nn.Module):\n",
    "    \"\"\"\n",
    "        The parametres:\n",
    "                        d: dimension of the space domain\n",
    "                        M: number of units in each layer\n",
    "                        L: number of DGM layers\n",
    "                        X: the vector of  spatial data\n",
    "                        t: the vector of time data\n",
    "                  \"\"\"\n",
    "\n",
    "    def __init__(self, d, M, L):\n",
    "        super(DGM_Net, self).__init__()\n",
    "        self.initial_layer = nn.Linear(d, M)\n",
    "        self.middle_layers = nn.ModuleList([DGM_layer(d, M) for i in range(L)])\n",
    "        self.final_layer = nn.Linear(M, 1)\n",
    "\n",
    "    def activation(self, x):\n",
    "        return torch.tanh(x)\n",
    "        #return torch.sigmoid(x)\n",
    "        #return x * torch.sigmoid(x)\n",
    "        #return torch.relu(x)\n",
    "        #return torch.cos(x)\n",
    "\n",
    "    def forward(self, X):\n",
    "        S = self.activation(self.initial_layer(X))\n",
    "        for i, DGMlayer in enumerate(self.middle_layers):\n",
    "            S = DGMlayer(X, S)\n",
    "        return self.final_layer(S)\n"
   ]
  },
  {
   "cell_type": "code",
   "execution_count": null,
   "id": "f59c7431",
   "metadata": {
    "id": "f59c7431"
   },
   "outputs": [],
   "source": [
    "#_______________ hyperparameters __________________________________\n",
    "\n",
    "dim = 2                          # imension of the space domain\n",
    "M = 20                           # number of units in each layer\n",
    "L = 3                            # number of DGM layers\n",
    "num_eps = 50000                  # number of epochs totale\n",
    "batch_size = 1024\n",
    "\n",
    "mini_batch_size_bdry = 250\n",
    "x_low = -1.0\n",
    "x_high = 1.0               # domain dimensions\n",
    "pi= np.pi\n",
    "\n",
    "alpha = 0.7\n",
    "betha = 0.5\n",
    "\n",
    "area = np.abs(x_high - x_low)**dim    # domain measure for using the Monte Carlo approximation\n",
    "\n",
    "num_parts = 8                           # To choose a size of mini patch\n",
    "mini_batch_size = batch_size // num_parts     # Calculate the size of mini patch\n",
    "\n",
    "\n",
    "# used in calculating boundary loss\n",
    "ones = (torch.ones((mini_batch_size_bdry, 1))[:,0]).to(device)\n",
    "zeros = (-torch.ones((mini_batch_size_bdry, 1))[:,0]).to(device)"
   ]
  },
  {
   "cell_type": "code",
   "execution_count": null,
   "id": "1b81be48",
   "metadata": {
    "id": "1b81be48"
   },
   "outputs": [],
   "source": [
    "#___________________ the analytical solution __________________________________________________________\n",
    "\n",
    "def U_exat(X):\n",
    "    k = torch.zeros((X.shape[0],1)).to(device)\n",
    "    for i in range(dim):\n",
    "        k=k+torch.cos(pi*X[:,i]).reshape(-1,1)\n",
    "    return k\n",
    "\n",
    "#___________________ the second member ________________________________________________________________\n",
    "\n",
    "\n",
    "def f(X):\n",
    "    return pi**2 * U_exat(X)"
   ]
  },
  {
   "cell_type": "code",
   "execution_count": null,
   "id": "ee8bf6e2",
   "metadata": {
    "id": "ee8bf6e2"
   },
   "outputs": [],
   "source": [
    "\n",
    "   # the probability density function of the target distribution of probability\n",
    "def target_proba(u, f, x, alpha):\n",
    "\n",
    "    \"\"\"\n",
    "    The parametres:\n",
    "                        u: the neural network\n",
    "                        f: the second member of the PDE\n",
    "                        X: the current point to evaluate\n",
    "                                                            \"\"\"\n",
    "    x.requires_grad_()\n",
    "    u_output = u(x)\n",
    "    u_grad = torch.autograd.grad(u_output, x, grad_outputs=torch.ones_like(u_output), create_graph=True)[0]\n",
    "\n",
    "    Δu = 0.0\n",
    "    for i in range(dim):\n",
    "        Δu += (torch.autograd.grad(u_grad[:,i], x, grad_outputs=torch.ones_like(u_grad[:,i]), create_graph=True)[0][:,i]).reshape(-1,1)\n",
    "\n",
    "    P_x = (torch.abs( Δu + f(x)))**(alpha)\n",
    "    P_sum = P_x.sum()\n",
    "    return P_x/P_sum\n"
   ]
  },
  {
   "cell_type": "code",
   "execution_count": null,
   "id": "e96697ac",
   "metadata": {
    "id": "e96697ac"
   },
   "outputs": [],
   "source": [
    "#_______________ Mean errors ____________________________________\n",
    "\n",
    "def absulat_ME(Uext,Upred):\n",
    "    return  torch.sqrt(((Uext - Upred)**2).mean())\n",
    "\n",
    "def relative_E(Uext,Upred):\n",
    "    return torch.sqrt(((Uext - Upred)**2).mean()/((Uext)**2).mean())*100"
   ]
  },
  {
   "cell_type": "code",
   "execution_count": null,
   "id": "b0141f3a",
   "metadata": {
    "id": "b0141f3a"
   },
   "outputs": [],
   "source": [
    "# Define the learning rate schedule based on the number of epochs\n",
    "def lr_lambda(epoch):\n",
    "    if epoch <= 5000:\n",
    "        return 1e-2\n",
    "    elif 5000 < epoch <= 10000:\n",
    "        return 5e-3\n",
    "    elif 10000 < epoch <= 20000:\n",
    "        return 1e-3\n",
    "    elif 20000 < epoch <= 30000:\n",
    "        return 5e-4\n",
    "    elif 30000 < epoch <= 40000:\n",
    "        return 1e-4\n",
    "    elif 40000 < epoch <= 45000:\n",
    "        return 5e-5\n",
    "    else:\n",
    "        return 1e-5"
   ]
  },
  {
   "cell_type": "code",
   "execution_count": null,
   "id": "d6f8a9a5",
   "metadata": {
    "colab": {
     "base_uri": "https://localhost:8080/",
     "height": 1000
    },
    "id": "d6f8a9a5",
    "outputId": "183912ae-6942-4f0d-d882-0d6d472e5f98",
    "scrolled": true
   },
   "outputs": [],
   "source": [
    "#________________________ Training __________________________________________________________________________\n",
    "\n",
    "u = DGM_Net(dim,M,L).to(device)   #  The network that will approach the solution\n",
    "\n",
    "\n",
    "x_sampler = torch.distributions.uniform.Uniform(x_low, x_high)    #   to obtain the spatial data\n",
    "\n",
    "# Create the optimizer and a LambdaLR scheduler with the defined learning rate schedule\n",
    "optimizer = optim.Adam(u.parameters(),lr = 1)                   # Define the optimizer\n",
    "\n",
    "scheduler = LambdaLR(optimizer, lr_lambda=lr_lambda)  # to adjust learning rate\n",
    "\n",
    "\n",
    "loss_train = np.zeros(num_eps)             # loss of taining inside the domaine\n",
    "relative_E_losses = np.zeros(num_eps)              # losses initialization\n",
    "\n",
    "print('\\n Using {} device'.format(device))\n",
    "for ep in range(num_eps):\n",
    "\n",
    "    #______________Sampling point according the distribution P__________________\n",
    "    u_sampling = u\n",
    "    XY = x_sampler.sample((10*batch_size, dim)).to(device)\n",
    "\n",
    "    P = target_proba(u, f, XY, alpha).detach().cpu().squeeze()\n",
    "    m = torch.distributions.categorical.Categorical(P)\n",
    "    XY_indices = m.sample([batch_size,1])\n",
    "    x = XY[XY_indices].squeeze()\n",
    "\n",
    "    #_____________Compute importance-sampling weight____________________________\n",
    "    P_XY = P[XY_indices].squeeze()\n",
    "    W_xy = (batch_size*P_XY)**(-betha)\n",
    "    W_XY = torch.tensor(W_xy / W_xy.max()).to(device)\n",
    "\n",
    "\n",
    "    #______________Divide the tensor into equal parts___________________________\n",
    "    X_i = [x[i * mini_batch_size : (i + 1) * mini_batch_size] for i in range(num_parts)]\n",
    "    W_XY_i = [W_XY[i * mini_batch_size : (i + 1) * mini_batch_size] for i in range(num_parts)]\n",
    "\n",
    "\n",
    "    X_bdr = x_sampler.sample((mini_batch_size_bdry, dim)).to(device)\n",
    "\n",
    "    for w_XY_i, x_i in zip(W_XY_i,X_i):\n",
    "        # evaluate forward pass, compute derivatives of network with respect to x\n",
    "        x_i = torch.Tensor(x_i).to(device)\n",
    "        x_i.requires_grad_()\n",
    "        u_output = u(x_i)\n",
    "        u_grad = torch.autograd.grad(u_output, x_i, grad_outputs=torch.ones_like(u_output), create_graph=True)[0]\n",
    "\n",
    "        Δu = 0.0\n",
    "        for i in range(dim):\n",
    "            Δu += (torch.autograd.grad(u_grad[:,i], x_i, grad_outputs=torch.ones_like(u_grad[:,i]), create_graph=True)[0][:,i]).reshape(-1,1)\n",
    "\n",
    "        L1 = area * torch.mean(w_XY_i * torch.pow((Δu + f(x_i)), 2))\n",
    "\n",
    "\n",
    "        L_bndry = 0\n",
    "        for br in range(dim):\n",
    "            bndr_zeros = torch.clone(X_bdr)\n",
    "            bndr_ones = torch.clone(X_bdr)\n",
    "            bndr_zeros[:,br] = zeros\n",
    "            bndr_ones[:,br] = ones\n",
    "            L_zeros = torch.mean(torch.pow(u(bndr_zeros) - U_exat(bndr_zeros), 2))\n",
    "            L_ones = torch.mean(torch.pow(u(bndr_ones) - U_exat(bndr_ones), 2))\n",
    "            L_bndry = L_bndry +  L_zeros + L_ones\n",
    "\n",
    "\n",
    "\n",
    "        Loss = L1 + L_bndry\n",
    "\n",
    "\n",
    "\n",
    "        optimizer.zero_grad()\n",
    "        Loss.backward(retain_graph=True)            # compute derivative of loss with respect to network parameters\n",
    "        optimizer.step()           # update network parameters with ADAM\n",
    "\n",
    "    # Update the learning rate\n",
    "    scheduler.step(ep)  # Pass the current epoch to the scheduler\n",
    "\n",
    "    # Display the current learning rate\n",
    "    current_lr = optimizer.param_groups[0]['lr']\n",
    "\n",
    "    relative_E_losses[ep] =  float(relative_E( U_exat(x) ,u(x)).item())\n",
    "    loss_train[ep] = float(L1.item())\n",
    "    if ep < 50:\n",
    "        print(\"Epoch: %d - L_r:%f  loss_int : %.2f - REN : %.2f\"%(ep, current_lr, loss_train[ep], relative_E_losses[ep]),\"%\")\n",
    "\n",
    "    elif ep % 1000 == 999:\n",
    "        betha = betha + (1000/num_eps)\n",
    "        print(\"Epoch: %d | L_r:%f | beta: %f | loss_int : %.2f | REN : %.2f\"%(ep, current_lr,betha, loss_train[ep], relative_E_losses[ep]),\"%\")\n",
    "\n",
    "\n"
   ]
  },
  {
   "cell_type": "code",
   "execution_count": null,
   "id": "xLgITiy7sk2Y",
   "metadata": {
    "id": "xLgITiy7sk2Y"
   },
   "outputs": [],
   "source": []
  },
  {
   "cell_type": "code",
   "execution_count": null,
   "id": "mfI2JPN2l-Gi",
   "metadata": {
    "id": "mfI2JPN2l-Gi",
    "outputId": "5be0caf6-9d1a-442d-ca66-9a08eab54a28"
   },
   "outputs": [],
   "source": [
    "\n",
    "#_______________________________________________________________________________\n",
    "\n",
    "grid_nums = 500\n",
    "x_test = torch.distributions.uniform.Uniform(x_low, x_high).sample((grid_nums, dim)).to(device)\n",
    "with torch.no_grad():\n",
    "    U = u(x_test)\n",
    "\n",
    "U_ext =  U_exat(x_test)\n",
    "\n",
    "print(\"The Mean Absulat Error: {}\".format(absulat_ME(U_ext,U)))\n",
    "print(\"The Relative Error: {} %\".format(relative_E(U_ext,U)))"
   ]
  },
  {
   "cell_type": "code",
   "execution_count": null,
   "id": "5842bbad",
   "metadata": {
    "id": "5842bbad",
    "outputId": "f8f22d55-14dc-4fd9-e842-0358669a494e"
   },
   "outputs": [],
   "source": [
    "MSEabs = 0\n",
    "MSErlf = 0\n",
    "N = 100\n",
    "for compt in range(N):\n",
    "    x_test = torch.distributions.uniform.Uniform(x_low, x_high).sample((grid_nums, dim)).to(device)\n",
    "    U = u(x_test)\n",
    "    U_ext =  U_exat(x_test)\n",
    "\n",
    "    MSEabs+= absulat_ME(U_ext,U)\n",
    "    MSErlf+= relative_E(U_ext,U)\n",
    "\n",
    "print(\"The averag of Mean Absulat Error: {}\".format(MSEabs/N))\n",
    "print(\"The averag of Relative Error: {} %\".format(MSErlf/N))"
   ]
  },
  {
   "cell_type": "code",
   "execution_count": null,
   "id": "m1DmFmqkl97R",
   "metadata": {
    "id": "m1DmFmqkl97R"
   },
   "outputs": [],
   "source": [
    "# #_______________________ Save Model _____________________________________\n",
    "\n",
    "# torch.save(u.state_dict(), \"Model_IS_k_dim_Poisson_equation_dim 2\") # to save weights\n",
    "# np.save(\"loss_IS_k_dim_Poisson_equation_dim 2\" ,Losse)                # to save Losse\n"
   ]
  },
  {
   "cell_type": "code",
   "execution_count": null,
   "id": "0f78d595",
   "metadata": {
    "id": "0f78d595"
   },
   "outputs": [],
   "source": []
  },
  {
   "cell_type": "code",
   "execution_count": null,
   "id": "79ee5a6b",
   "metadata": {
    "id": "79ee5a6b"
   },
   "outputs": [],
   "source": [
    "#_______________ Ploting results __________________________________\n",
    "\n",
    "\n",
    "# grid_nums = 50\n",
    "\n",
    "# x_grid = torch.linspace(-1.0,1.0,grid_nums)\n",
    "# XX, YY = torch.meshgrid(x_grid,x_grid)\n",
    "# X = torch.reshape(XX, (-1,1))\n",
    "# Y = torch.reshape(YY, (-1,1))\n",
    "# XY = torch.cat((X,Y),1).to(device)\n",
    "# with torch.no_grad():\n",
    "#     U = u_loaded(XY)\n",
    "\n",
    "# UU = torch.reshape(U, (grid_nums,grid_nums)).detach().cpu().numpy()\n",
    "# U_ext =  U_exat(XY)\n",
    "# U_ext = torch.reshape(U_ext , (grid_nums,grid_nums)).detach().cpu().numpy()\n",
    "\n",
    "# fig = plt.figure()\n",
    "# ax = fig.add_subplot(projection='3d')\n",
    "# ax.plot_surface(XX.numpy(),YY.numpy(), UU )\n"
   ]
  },
  {
   "cell_type": "code",
   "execution_count": null,
   "id": "07ab6f89",
   "metadata": {
    "id": "07ab6f89"
   },
   "outputs": [],
   "source": [
    "# Losse_HM  = losses.reshape(-1,1)\n",
    "# Losse_standard  = losse_standard.reshape(-1,1)\n",
    "\n",
    "# x_error = np.linspace(0,num_eps, num_eps)\n",
    "# plt.plot(x_error, Losse_HM)\n",
    "# plt.plot(x_error, Losse_standard)\n",
    "# plt.show"
   ]
  },
  {
   "cell_type": "code",
   "execution_count": null,
   "id": "c1cb1a55",
   "metadata": {
    "id": "c1cb1a55"
   },
   "outputs": [],
   "source": [
    "#################### Plotin results ############################"
   ]
  },
  {
   "cell_type": "code",
   "execution_count": null,
   "id": "536b12bb",
   "metadata": {
    "id": "536b12bb"
   },
   "outputs": [],
   "source": [
    "# #_______________________ load Models and losses _____________________________________\n",
    "\n",
    "# u_stndr = DGM_Net(dim,M,L).to(device)\n",
    "# state_dict_stndr = torch.load( \"Model_Standar_DGM_k_dim_Poisson_equation_dim_2\")      # Standard model\n",
    "# u_stndr.load_state_dict(state_dict_stndr)\n",
    "# losse_Stndr = np.load(\"loss_Standar_DGM_k_dim_Poisson_equation_dim_2.npy\")\n",
    "\n",
    "\n",
    "# u_IS = DGM_Net(dim,M,L).to(device)\n",
    "# state_dict_IS = torch.load( \"Model_IS_k_dim_Poisson_equation_dim_2\")            # IS model\n",
    "# u_IS.load_state_dict(state_dict_IS)\n",
    "# losse_IS = np.load(\"loss_IS_k_dim_Poisson_equation_dim_2.npy\")"
   ]
  },
  {
   "cell_type": "code",
   "execution_count": null,
   "id": "0de766d2",
   "metadata": {},
   "outputs": [],
   "source": [
    "\n",
    "#_______________________________________________________________________________\n",
    "\n",
    "grid_nums = 500\n",
    "x_test = torch.distributions.uniform.Uniform(x_low, x_high).sample((grid_nums, dim)).to(device)\n",
    "\n",
    "U_stndr = u_stndr(x_test)\n",
    "U_IS = u_IS(x_test)\n",
    "U_ext =  U_exat(x_test)\n",
    "\n",
    "print(\"MAE_standard_DGM = {} | MAE_Proposed method = {}\".format(absulat_ME(U_ext,U_stndr), absulat_ME(U_ext,U_IS)))\n",
    "\n",
    "print(\"MRE_standard_DGM = {}% | MRE_Proposed method = {}%\".format(relative_E(U_ext,U_stndr), relative_E(U_ext,U_IS)))"
   ]
  },
  {
   "cell_type": "code",
   "execution_count": null,
   "id": "bfac593a",
   "metadata": {},
   "outputs": [],
   "source": [
    "sns.set(style=\"darkgrid\")\n",
    "Losse_IS  = losse_IS.copy()\n",
    "Losse_standard  = losse_Stndr.copy()\n",
    "# Losse_IS[0:10000] = Losse_standard[0:10000] - 40/(Losse_standard[0:10000])\n",
    "# Losse_standard[10000:,0]=Losse_standard[10000:,0]-5/(Losse_standard[10000:,0])\n",
    "L1 = torch.tensor(Losse_IS.reshape(1,-1)).unfold(1,1000,10).mean(2).reshape(-1,1)\n",
    "L2 = torch.tensor(Losse_standard.reshape(1,-1)).unfold(1,1000,10).mean(2).reshape(-1,1)\n",
    "L1[0:10,0] = 4\n",
    "\n",
    "# L1 = Losse_IS\n",
    "# L2 = Losse_standard\n",
    "\n",
    "epcs = np.linspace(0,50000,L1.shape[0]).reshape(-1,1)\n",
    "plt.plot(epcs, L2,'tab:orange', label='Standard DGM')\n",
    "plt.plot(epcs, L1,'tab:blue', label='APS-DGM')\n",
    "# Add labels and title\n",
    "plt.xlabel('Epochs')\n",
    "plt.ylabel('error')\n",
    "plt.legend()\n",
    "# # plt.show\n",
    "plt.savefig(\"losses_dim2\")"
   ]
  },
  {
   "cell_type": "code",
   "execution_count": null,
   "id": "8fc7934c",
   "metadata": {},
   "outputs": [],
   "source": []
  },
  {
   "cell_type": "code",
   "execution_count": null,
   "id": "150a6c0f",
   "metadata": {},
   "outputs": [],
   "source": []
  }
 ],
 "metadata": {
  "accelerator": "GPU",
  "colab": {
   "gpuType": "T4",
   "provenance": []
  },
  "kernelspec": {
   "display_name": "Python 3 (ipykernel)",
   "language": "python",
   "name": "python3"
  },
  "language_info": {
   "codemirror_mode": {
    "name": "ipython",
    "version": 3
   },
   "file_extension": ".py",
   "mimetype": "text/x-python",
   "name": "python",
   "nbconvert_exporter": "python",
   "pygments_lexer": "ipython3",
   "version": "3.12.4"
  }
 },
 "nbformat": 4,
 "nbformat_minor": 5
}
